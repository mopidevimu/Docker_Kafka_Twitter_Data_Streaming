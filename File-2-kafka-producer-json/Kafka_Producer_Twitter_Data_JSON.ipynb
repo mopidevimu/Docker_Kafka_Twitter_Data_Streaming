{
 "cells": [
  {
   "cell_type": "code",
   "execution_count": 1,
   "metadata": {},
   "outputs": [
    {
     "name": "stdout",
     "output_type": "stream",
     "text": [
      "Authentication OK\n"
     ]
    }
   ],
   "source": [
    "# Importing Libs\n",
    "import tweepy\n",
    "import json\n",
    "from kafka import KafkaConsumer, KafkaProducer\n",
    "from tweepy import OAuthHandler\n",
    "\n",
    "#Twitter Keys\n",
    "consumer_key = \"hBS2M9407C5vDTXodUMtfOTh9\"\n",
    "consumer_secret = \"rh9UuGlqNhzHm6GYo0koWbJeaFVO0Ml72uBEcGd9rYS6ZSRIbO\"\n",
    "access_token = \"1342336999-AjXWWz4qadipKXLwPxd6MyZsE8ZQyQvxgRJnf7H\"\n",
    "access_token_secret = \"7xiPV4MjeqwINKsWd197bZ3DWeigc6Ez0hfoRP6jMhiTB\"\n",
    "\n",
    "# Creating the authentication object\n",
    "auth = tweepy.OAuthHandler(consumer_key, consumer_secret)\n",
    "auth.set_access_token(access_token, access_token_secret)\n",
    "\n",
    "# Creating the API object by passing in auth information\n",
    "api = tweepy.API(auth)\n",
    "#Connection Checking\n",
    "try:\n",
    "    api.verify_credentials()\n",
    "    print(\"Authentication OK\")\n",
    "except:\n",
    "    print(\"Error during authentication\")\n",
    "#kafka Producer    \n",
    "producer = KafkaProducer(bootstrap_servers='192.168.99.100:9092')\n",
    "topic_name = \"tweet\""
   ]
  },
  {
   "cell_type": "code",
   "execution_count": 2,
   "metadata": {},
   "outputs": [
    {
     "name": "stdout",
     "output_type": "stream",
     "text": [
      "Streaming Feed Ended\n"
     ]
    }
   ],
   "source": [
    "#twitter Steam to store data in the form of Json\n",
    "from tweepy import Stream\n",
    "from tweepy.streaming import StreamListener\n",
    " \n",
    "class MyListener(StreamListener):\n",
    " \n",
    "    def on_data(self, data):\n",
    "        try:\n",
    "            with open('./home/tweets.json', 'a') as f:\n",
    "                f.write(data)\n",
    "                words = \"iphoneXR\"\n",
    "                date_since = \"2019-08-08\"\n",
    "                new_search = words + \" -filter:retweets\"\n",
    "                tweets = tweepy.Cursor(api.search, q=new_search, lang=\"en\", since=date_since).items(3)\n",
    "                for tweet in tweets:\n",
    "                    record = ''\n",
    "                    record += str(tweet.user.id_str) #userId\n",
    "                    record += ',' \n",
    "                    record += str(tweet.user.screen_name) #userscreen name\n",
    "                    record += ','\n",
    "                    record += str(tweet.user.followers_count) #followers count\n",
    "                    record += ','\n",
    "                    record += str(tweet.user.location) #location\n",
    "                    record += ','\n",
    "                    record += str(tweet.text) #tweet\n",
    "                producer.send (topic_name,json.dumps(data).encode('utf-8'))\n",
    "                return True\n",
    "        except BaseException as e:\n",
    "            #print(&quot;Error on_data: %s&quot; % str(e))\n",
    "            return True\n",
    " \n",
    "    def on_error(self, status):\n",
    "        \n",
    "        print(status)\n",
    "        return True\n",
    "    \n",
    "try: \n",
    "    twitter_stream = Stream(auth, MyListener())\n",
    "    twitter_stream.filter(track=['#iphone'])\n",
    "except KeyboardInterrupt:\n",
    "    print(\"Streaming Feed Ended\")"
   ]
  },
  {
   "cell_type": "code",
   "execution_count": null,
   "metadata": {},
   "outputs": [],
   "source": []
  }
 ],
 "metadata": {
  "kernelspec": {
   "display_name": "Python 3",
   "language": "python",
   "name": "python3"
  },
  "language_info": {
   "codemirror_mode": {
    "name": "ipython",
    "version": 3
   },
   "file_extension": ".py",
   "mimetype": "text/x-python",
   "name": "python",
   "nbconvert_exporter": "python",
   "pygments_lexer": "ipython3",
   "version": "3.7.6"
  }
 },
 "nbformat": 4,
 "nbformat_minor": 4
}
